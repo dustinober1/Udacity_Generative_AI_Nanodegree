{
 "cells": [
  {
   "cell_type": "markdown",
   "id": "32a86128",
   "metadata": {},
   "source": [
    "# Step 2 - Finding Relevant Data"
   ]
  },
  {
   "cell_type": "markdown",
   "id": "6e411bad",
   "metadata": {},
   "source": [
    "Add your API key to the cell below then run it."
   ]
  },
  {
   "cell_type": "code",
   "execution_count": 1,
   "id": "bda6008b",
   "metadata": {},
   "outputs": [],
   "source": [
    "import openai\n",
    "openai.api_base = \"https://openai.vocareum.com/v1\"\n",
    "openai.api_key = \"\""
   ]
  },
  {
   "cell_type": "markdown",
   "id": "c94891e7",
   "metadata": {},
   "source": [
    "The code below loads in the embeddings you previously created. Run it as-is."
   ]
  },
  {
   "cell_type": "code",
   "execution_count": 2,
   "id": "8079085d",
   "metadata": {},
   "outputs": [
    {
     "data": {
      "text/html": [
       "<div>\n",
       "<style scoped>\n",
       "    .dataframe tbody tr th:only-of-type {\n",
       "        vertical-align: middle;\n",
       "    }\n",
       "\n",
       "    .dataframe tbody tr th {\n",
       "        vertical-align: top;\n",
       "    }\n",
       "\n",
       "    .dataframe thead th {\n",
       "        text-align: right;\n",
       "    }\n",
       "</style>\n",
       "<table border=\"1\" class=\"dataframe\">\n",
       "  <thead>\n",
       "    <tr style=\"text-align: right;\">\n",
       "      <th></th>\n",
       "      <th>text</th>\n",
       "      <th>embeddings</th>\n",
       "    </tr>\n",
       "  </thead>\n",
       "  <tbody>\n",
       "    <tr>\n",
       "      <th>0</th>\n",
       "      <td>On 6 February 2023, at 04:17 TRT (01:17 UTC), ...</td>\n",
       "      <td>[-0.007865791209042072, -0.01488738413900137, ...</td>\n",
       "    </tr>\n",
       "    <tr>\n",
       "      <th>1</th>\n",
       "      <td>The Mw 7.8 earthquake is the largest in Turkey...</td>\n",
       "      <td>[0.00019888307724613696, -0.022314351052045822...</td>\n",
       "    </tr>\n",
       "    <tr>\n",
       "      <th>2</th>\n",
       "      <td>There was widespread damage in an area of abou...</td>\n",
       "      <td>[-0.003678650129586458, -0.020112549886107445,...</td>\n",
       "    </tr>\n",
       "    <tr>\n",
       "      <th>3</th>\n",
       "      <td>Central southern Turkey and northwestern Syria...</td>\n",
       "      <td>[-0.005976187530905008, -0.011475914157927036,...</td>\n",
       "    </tr>\n",
       "    <tr>\n",
       "      <th>4</th>\n",
       "      <td>The EAF has produced large or damaging earthqu...</td>\n",
       "      <td>[0.0002380282385274768, -0.02387528494000435, ...</td>\n",
       "    </tr>\n",
       "    <tr>\n",
       "      <th>...</th>\n",
       "      <td>...</td>\n",
       "      <td>...</td>\n",
       "    </tr>\n",
       "    <tr>\n",
       "      <th>96</th>\n",
       "      <td>The International Seismological Centre has a b...</td>\n",
       "      <td>[-0.004583664704114199, -0.009662682190537453,...</td>\n",
       "    </tr>\n",
       "    <tr>\n",
       "      <th>97</th>\n",
       "      <td>The International Seismological Centre has a b...</td>\n",
       "      <td>[-0.004807258490473032, -0.01684679090976715, ...</td>\n",
       "    </tr>\n",
       "    <tr>\n",
       "      <th>98</th>\n",
       "      <td>Erdik, M., Tümsa, M. B. D., Pınar, A., Altunel...</td>\n",
       "      <td>[-0.006729048676788807, -0.04049292206764221, ...</td>\n",
       "    </tr>\n",
       "    <tr>\n",
       "      <th>99</th>\n",
       "      <td>\"Kahramanmaraş Supersite science page\". Group ...</td>\n",
       "      <td>[0.0036264623049646616, -0.007848413661122322,...</td>\n",
       "    </tr>\n",
       "    <tr>\n",
       "      <th>100</th>\n",
       "      <td>Schmitt, R.; Herman, M.; Barnhart, W.; Furlong...</td>\n",
       "      <td>[-0.01565597392618656, -0.022238751873373985, ...</td>\n",
       "    </tr>\n",
       "  </tbody>\n",
       "</table>\n",
       "<p>101 rows × 2 columns</p>\n",
       "</div>"
      ],
      "text/plain": [
       "                                                  text  \\\n",
       "0    On 6 February 2023, at 04:17 TRT (01:17 UTC), ...   \n",
       "1    The Mw 7.8 earthquake is the largest in Turkey...   \n",
       "2    There was widespread damage in an area of abou...   \n",
       "3    Central southern Turkey and northwestern Syria...   \n",
       "4    The EAF has produced large or damaging earthqu...   \n",
       "..                                                 ...   \n",
       "96   The International Seismological Centre has a b...   \n",
       "97   The International Seismological Centre has a b...   \n",
       "98   Erdik, M., Tümsa, M. B. D., Pınar, A., Altunel...   \n",
       "99   \"Kahramanmaraş Supersite science page\". Group ...   \n",
       "100  Schmitt, R.; Herman, M.; Barnhart, W.; Furlong...   \n",
       "\n",
       "                                            embeddings  \n",
       "0    [-0.007865791209042072, -0.01488738413900137, ...  \n",
       "1    [0.00019888307724613696, -0.022314351052045822...  \n",
       "2    [-0.003678650129586458, -0.020112549886107445,...  \n",
       "3    [-0.005976187530905008, -0.011475914157927036,...  \n",
       "4    [0.0002380282385274768, -0.02387528494000435, ...  \n",
       "..                                                 ...  \n",
       "96   [-0.004583664704114199, -0.009662682190537453,...  \n",
       "97   [-0.004807258490473032, -0.01684679090976715, ...  \n",
       "98   [-0.006729048676788807, -0.04049292206764221, ...  \n",
       "99   [0.0036264623049646616, -0.007848413661122322,...  \n",
       "100  [-0.01565597392618656, -0.022238751873373985, ...  \n",
       "\n",
       "[101 rows x 2 columns]"
      ]
     },
     "execution_count": 2,
     "metadata": {},
     "output_type": "execute_result"
    }
   ],
   "source": [
    "import numpy as np\n",
    "import pandas as pd\n",
    "\n",
    "df = pd.read_csv(\"embeddings.csv\", index_col=0)\n",
    "df[\"embeddings\"] = df[\"embeddings\"].apply(eval).apply(np.array)\n",
    "df"
   ]
  },
  {
   "cell_type": "markdown",
   "id": "f9f55c03",
   "metadata": {},
   "source": [
    "## TODO 1: Create Embeddings for the User's Question\n",
    "\n",
    "In the previous exercise, you were given the code to create embeddings for everything in the dataset. Now your task is to create embeddings for just one string: the user's question. Assign the result to the variable `question_embeddings`. This variable should contain a list of 1,536 floating point numbers, and the provided code will print the first 100 once `question_embeddings` has been created correctly.\n",
    "\n",
    "If you're getting stuck, you can click to reveal the solution then copy and paste this into the cell below.\n",
    "\n",
    "---\n",
    "\n",
    "<details>\n",
    "    <summary style=\"cursor: pointer\"><strong>Solution (click to show/hide)</strong></summary>\n",
    "\n",
    "```python\n",
    "EMBEDDING_MODEL_NAME = \"text-embedding-ada-002\"\n",
    "USER_QUESTION = \"\"\"What were the estimated damages of the 2023 \\\n",
    "Turkey-Syria earthquake?\"\"\"\n",
    "\n",
    "# Generate the embedding response\n",
    "response = openai.Embedding.create(\n",
    "    input=USER_QUESTION,\n",
    "    engine=EMBEDDING_MODEL_NAME\n",
    ")\n",
    "\n",
    "# Extract the embeddings from the response\n",
    "question_embeddings = response[\"data\"][0][\"embedding\"]\n",
    "\n",
    "print(question_embeddings[:100])\n",
    "```\n",
    "\n",
    "</details>"
   ]
  },
  {
   "cell_type": "code",
   "execution_count": 3,
   "id": "fd5e0998",
   "metadata": {},
   "outputs": [
    {
     "name": "stdout",
     "output_type": "stream",
     "text": [
      "[0.00553178321570158, -0.024947911500930786, 0.002177121117711067, -0.012254414148628712, -0.02144855074584484, 0.002601235406473279, -0.03387593477964401, -0.013079358264803886, 0.0024498847778886557, -0.014982052147388458, 0.0162061620503664, 0.044413935393095016, -0.010231969878077507, -0.013179149478673935, 0.01508849672973156, -0.005395401734858751, 0.012400775216519833, -0.013039441779255867, 0.008202873170375824, -0.005724714137613773, -0.007444456685334444, 0.011476038955152035, 0.012387469410896301, -0.009120956063270569, 0.015194941312074661, 0.03209299221634865, 0.008049859665334225, -0.0023667251225560904, -0.0008465657592751086, -0.012141316197812557, 0.005505172535777092, -0.006552984472364187, -0.023524217307567596, 0.015261468477547169, -0.03246554732322693, -0.0075309425592422485, 0.006865664850920439, -0.004883137531578541, 0.023231495171785355, -0.0078436229377985, 0.010112219490110874, 0.028553714975714684, 0.012959607876837254, -0.007697261869907379, -0.017576634883880615, -0.004211207386106253, 0.017270607873797417, 0.0030968673527240753, -0.004816609900444746, 0.021182440221309662, 0.013072704896330833, 0.02673085406422615, -0.037867601960897446, -0.02022443898022175, -0.015634024515748024, -0.01651219092309475, -0.001379619468934834, -0.019665606319904327, -0.00027026902534998953, -0.011462733149528503, 0.009180830791592598, -0.00680579012259841, -0.028686771169304848, 0.0013729666825383902, -0.01389099657535553, -0.01531469076871872, 0.0076773036271333694, -0.021049384027719498, -0.019625689834356308, 0.010883942246437073, 0.050108712166547775, 0.047713711857795715, 0.000932220253162086, -0.05716065317392349, 0.035179879516363144, -0.004919727798551321, 0.017962496727705002, -0.006526373326778412, -0.007377929054200649, 0.0024498847778886557, 0.03651043772697449, -0.020171217620372772, -0.003675658954307437, 0.0014145465102046728, 0.0315873809158802, -0.0009114303393289447, 0.00519581837579608, 0.009420331567525864, -0.02916577085852623, 0.017869357019662857, 0.012866469100117683, 0.030336659401655197, -0.0034760755952447653, 0.009852761402726173, 0.0008478131494484842, -0.007597470656037331, -0.025706326588988304, 0.017017802223563194, -0.015673941001296043, -0.045877546072006226]\n"
     ]
    }
   ],
   "source": [
    "EMBEDDING_MODEL_NAME = \"text-embedding-ada-002\"\n",
    "USER_QUESTION = \"\"\"What were the estimated damages of the 2023 \\\n",
    "Turkey-Syria earthquake?\"\"\"\n",
    "\n",
    "# Generate the embedding response\n",
    "response = openai.Embedding.create(\n",
    "    input = USER_QUESTION,\n",
    "    model = EMBEDDING_MODEL_NAME)\n",
    "\n",
    "# Extract the embeddings from the response\n",
    "question_embeddings = response['data'][0]['embedding']\n",
    "\n",
    "print(question_embeddings[:100])"
   ]
  },
  {
   "cell_type": "markdown",
   "id": "ee9cc40d",
   "metadata": {},
   "source": [
    "## TODO 2: Find Cosine Distances"
   ]
  },
  {
   "cell_type": "markdown",
   "id": "5a68de2b",
   "metadata": {},
   "source": [
    "Create a new list called `distances`, which represents the cosine distances between `question_embeddings` and each value in the `'embeddings'` column of `df`.\n",
    "\n",
    "If you're getting stuck, you can click to reveal the solution then copy and paste this into the cell below.\n",
    "\n",
    "---\n",
    "\n",
    "<details>\n",
    "    <summary style=\"cursor: pointer\"><strong>Solution (click to show/hide)</strong></summary>\n",
    "\n",
    "```python\n",
    "from openai.embeddings_utils import distances_from_embeddings\n",
    "\n",
    "# Create a list containing the distances from question_embeddings\n",
    "distances = distances_from_embeddings(\n",
    "    question_embeddings,\n",
    "    df[\"embeddings\"],\n",
    "    distance_metric=\"cosine\"\n",
    ")\n",
    "\n",
    "print(distances[:100])\n",
    "```\n",
    "\n",
    "</details>"
   ]
  },
  {
   "cell_type": "code",
   "execution_count": 4,
   "id": "7fd30911",
   "metadata": {},
   "outputs": [
    {
     "ename": "NameError",
     "evalue": "name 'distance_from_embedding' is not defined",
     "output_type": "error",
     "traceback": [
      "\u001b[0;31m---------------------------------------------------------------------------\u001b[0m",
      "\u001b[0;31mNameError\u001b[0m                                 Traceback (most recent call last)",
      "Cell \u001b[0;32mIn[4], line 4\u001b[0m\n\u001b[1;32m      1\u001b[0m \u001b[38;5;28;01mfrom\u001b[39;00m \u001b[38;5;21;01mopenai\u001b[39;00m\u001b[38;5;21;01m.\u001b[39;00m\u001b[38;5;21;01membeddings_utils\u001b[39;00m \u001b[38;5;28;01mimport\u001b[39;00m distances_from_embeddings\n\u001b[1;32m      3\u001b[0m \u001b[38;5;66;03m# Create a list containing the distances from question_embeddings\u001b[39;00m\n\u001b[0;32m----> 4\u001b[0m distances \u001b[38;5;241m=\u001b[39m \u001b[43mdistance_from_embedding\u001b[49m(\n\u001b[1;32m      5\u001b[0m     question_embeddings,\n\u001b[1;32m      6\u001b[0m     df[\u001b[38;5;124m'\u001b[39m\u001b[38;5;124membeddings\u001b[39m\u001b[38;5;124m'\u001b[39m]\u001b[38;5;241m.\u001b[39mtolist(),\n\u001b[1;32m      7\u001b[0m     distance_metric \u001b[38;5;241m=\u001b[39m \u001b[38;5;124m'\u001b[39m\u001b[38;5;124mcosine\u001b[39m\u001b[38;5;124m'\u001b[39m)\n\u001b[1;32m      9\u001b[0m \u001b[38;5;28mprint\u001b[39m(distances[:\u001b[38;5;241m100\u001b[39m])\n",
      "\u001b[0;31mNameError\u001b[0m: name 'distance_from_embedding' is not defined"
     ]
    }
   ],
   "source": [
    "from openai.embeddings_utils import distances_from_embeddings\n",
    "\n",
    "# Create a list containing the distances from question_embeddings\n",
    "distances = distance_from_embedding(\n",
    "    question_embeddings,\n",
    "    df['embeddings'].tolist(),\n",
    "    distance_metric = 'cosine')\n",
    "\n",
    "print(distances[:100])"
   ]
  },
  {
   "cell_type": "markdown",
   "id": "f557de6a",
   "metadata": {},
   "source": [
    "## Sorting by Distance\n",
    "\n",
    "The code below uses the `distances` list to update `df` then sorts `df` to find the most related rows. Shorter distance means more similarity, so we'll use an ascending sorting order. Run the cell below as-is."
   ]
  },
  {
   "cell_type": "code",
   "execution_count": null,
   "id": "338c33f1",
   "metadata": {},
   "outputs": [],
   "source": [
    "df[\"distances\"] = distances\n",
    "df.sort_values(by=\"distances\", ascending=True, inplace=True)\n",
    "df.head(5)"
   ]
  },
  {
   "cell_type": "markdown",
   "id": "b08c82d1",
   "metadata": {},
   "source": [
    "Great, now we have the dataset sorted from most relevant to least relevant! Let's save this as a CSV so we can load it in the next step and compose a custom prompt.\n",
    "\n",
    "Run the cell below as-is."
   ]
  },
  {
   "cell_type": "code",
   "execution_count": null,
   "id": "89beaf82",
   "metadata": {},
   "outputs": [],
   "source": [
    "df.to_csv(\"distances.csv\")"
   ]
  },
  {
   "cell_type": "code",
   "execution_count": null,
   "id": "15aaf8cd",
   "metadata": {},
   "outputs": [],
   "source": []
  }
 ],
 "metadata": {
  "kernelspec": {
   "display_name": "Python 3 (ipykernel)",
   "language": "python",
   "name": "python3"
  },
  "language_info": {
   "codemirror_mode": {
    "name": "ipython",
    "version": 3
   },
   "file_extension": ".py",
   "mimetype": "text/x-python",
   "name": "python",
   "nbconvert_exporter": "python",
   "pygments_lexer": "ipython3",
   "version": "3.9.18"
  }
 },
 "nbformat": 4,
 "nbformat_minor": 5
}
