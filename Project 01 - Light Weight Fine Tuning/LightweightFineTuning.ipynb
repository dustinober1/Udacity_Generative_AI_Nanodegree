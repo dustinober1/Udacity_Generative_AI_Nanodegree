{
 "cells": [
  {
   "cell_type": "markdown",
   "id": "de8d76bb",
   "metadata": {},
   "source": [
    "# Lightweight Fine-Tuning of a Foundation Model\n",
    "\n",
    "## Introduction\n",
    "\n",
    "In this project, we aim to apply lightweight fine-tuning techniques to a pretrained foundation model using the Hugging Face ecosystem. Lightweight fine-tuning methods, such as Parameter-Efficient Fine-Tuning (PEFT), allow us to fine-tune large language models efficiently with fewer computational resources, which is particularly valuable for tasks like text classification.\n",
    "\n",
    "### Objectives\n",
    "\n",
    "- Load and evaluate a pretrained Hugging Face model.\n",
    "- Apply a Parameter-Efficient Fine-Tuning (PEFT) method to adapt the model for a specific task.\n",
    "- Evaluate the model's performance before and after fine-tuning.\n",
    "- Explore the impact of different PEFT configurations.\n",
    "\n",
    "### Choices Explanation\n",
    "\n",
    "- **PEFT Technique**: LoRA (Low-Rank Adaptation) is chosen for its effectiveness in reducing the number of trainable parameters while maintaining high performance.\n",
    "- **Model**: We use `bert-base-uncased` due to its widespread use and effectiveness in NLP tasks, particularly sequence classification.\n",
    "- **Evaluation Approach**: We use accuracy as the evaluation metric to measure model performance in binary sentiment classification.\n",
    "- **Fine-Tuning Dataset**: The IMDB dataset is selected for its simplicity and relevance to sentiment analysis tasks.\n",
    "\n",
    "## Loading Pretrained Model and Tokenizer\n",
    "\n",
    "In this section, we load a pretrained model and its associated tokenizer from the Hugging Face model hub. The `bert-base-uncased` model is used for its effectiveness in sequence classification tasks.\n"
   ]
  },
  {
   "cell_type": "code",
   "execution_count": 1,
   "id": "d901adf5",
   "metadata": {},
   "outputs": [
    {
     "name": "stdout",
     "output_type": "stream",
     "text": [
      "Using device: cuda\n"
     ]
    }
   ],
   "source": [
    "import torch\n",
    "\n",
    "device = torch.device(\"cuda\") if torch.cuda.is_available() else torch.device(\"cpu\")\n",
    "print(f\"Using device: {device}\")"
   ]
  },
  {
   "cell_type": "code",
   "execution_count": 2,
   "id": "f551c63a",
   "metadata": {},
   "outputs": [
    {
     "name": "stderr",
     "output_type": "stream",
     "text": [
      "Some weights of BertForSequenceClassification were not initialized from the model checkpoint at bert-base-uncased and are newly initialized: ['classifier.weight', 'classifier.bias']\n",
      "You should probably TRAIN this model on a down-stream task to be able to use it for predictions and inference.\n"
     ]
    }
   ],
   "source": [
    "# Import necessary libraries\n",
    "from transformers import AutoModelForSequenceClassification, AutoTokenizer\n",
    "\n",
    "# Load a pretrained Hugging Face model and tokenizer\n",
    "model_name = \"bert-base-uncased\"\n",
    "model = AutoModelForSequenceClassification.from_pretrained(model_name)\n",
    "tokenizer = AutoTokenizer.from_pretrained(model_name)"
   ]
  },
  {
   "cell_type": "markdown",
   "id": "92fac43e",
   "metadata": {},
   "source": [
    "## Data Preprocessing and Tokenization\n",
    "\n",
    "We use the Hugging Face `datasets` library to load the IMDB dataset. We then preprocess the data by tokenizing the text using the BERT tokenizer."
   ]
  },
  {
   "cell_type": "code",
   "execution_count": 3,
   "id": "4935cb4d",
   "metadata": {},
   "outputs": [
    {
     "data": {
      "application/vnd.jupyter.widget-view+json": {
       "model_id": "956f7f048fa6445aad817adac956ff75",
       "version_major": 2,
       "version_minor": 0
      },
      "text/plain": [
       "Map:   0%|          | 0/50000 [00:00<?, ? examples/s]"
      ]
     },
     "metadata": {},
     "output_type": "display_data"
    }
   ],
   "source": [
    "from datasets import load_dataset\n",
    "\n",
    "# Load a dataset\n",
    "dataset = load_dataset(\"imdb\")\n",
    "\n",
    "# Preprocessing the dataset: Tokenization\n",
    "def preprocess_function(examples):\n",
    "    return tokenizer(examples['text'], truncation=True, padding=True, max_length=128)\n",
    "\n",
    "# Apply tokenization\n",
    "encoded_dataset = dataset.map(preprocess_function, batched=True)\n"
   ]
  },
  {
   "cell_type": "markdown",
   "id": "55f0cd2f",
   "metadata": {},
   "source": [
    "## Baseline Evaluation of the Pretrained Model\n",
    "\n",
    "Before fine-tuning, we evaluate the pretrained model on the IMDB test dataset to establish a baseline. This allows us to compare the performance of the model before and after fine-tuning. The evaluation metric used is accuracy.\n"
   ]
  },
  {
   "cell_type": "code",
   "execution_count": 4,
   "id": "f28c4a78",
   "metadata": {},
   "outputs": [
    {
     "name": "stderr",
     "output_type": "stream",
     "text": [
      "You're using a BertTokenizerFast tokenizer. Please note that with a fast tokenizer, using the `__call__` method is faster than using a method to encode the text followed by a call to the `pad` method to get a padded encoding.\n"
     ]
    },
    {
     "data": {
      "text/html": [
       "\n",
       "    <div>\n",
       "      \n",
       "      <progress value='1563' max='1563' style='width:300px; height:20px; vertical-align: middle;'></progress>\n",
       "      [1563/1563 03:00]\n",
       "    </div>\n",
       "    "
      ],
      "text/plain": [
       "<IPython.core.display.HTML object>"
      ]
     },
     "metadata": {},
     "output_type": "display_data"
    },
    {
     "name": "stdout",
     "output_type": "stream",
     "text": [
      "Pretrained model accuracy: 0.49456\n"
     ]
    }
   ],
   "source": [
    "from transformers import Trainer, TrainingArguments, EvalPrediction\n",
    "import numpy as np\n",
    "\n",
    "def compute_metrics(eval_pred: EvalPrediction):\n",
    "    logits, labels = eval_pred\n",
    "    predictions = np.argmax(logits, axis=-1)\n",
    "    accuracy = np.mean(predictions == labels)\n",
    "    return {\"accuracy\": accuracy}\n",
    "\n",
    "training_args = TrainingArguments(\n",
    "    output_dir=\"./results\",\n",
    "    per_device_eval_batch_size=16,\n",
    "    logging_dir=\"./logs\",\n",
    "    logging_steps=500,\n",
    ")\n",
    "\n",
    "# Initialize the Trainer\n",
    "trainer = Trainer(\n",
    "    model=model,\n",
    "    args=training_args,\n",
    "    tokenizer=tokenizer,\n",
    "    compute_metrics=compute_metrics,\n",
    ")\n",
    "\n",
    "# Evaluate the model\n",
    "eval_results = trainer.evaluate(encoded_dataset['test'])\n",
    "print(f\"Pretrained model accuracy: {eval_results['eval_accuracy']}\")\n"
   ]
  },
  {
   "cell_type": "markdown",
   "id": "4d52a229",
   "metadata": {},
   "source": [
    "## Fine-Tuning Using PEFT (LoRA)\n",
    "\n",
    "We implement a Parameter-Efficient Fine-Tuning (PEFT) technique called LoRA (Low-Rank Adaptation). This method allows us to fine-tune a subset of the model parameters, significantly reducing the computational cost while achieving high performance."
   ]
  },
  {
   "cell_type": "code",
   "execution_count": 5,
   "id": "5775fadf",
   "metadata": {},
   "outputs": [],
   "source": [
    "from peft import get_peft_model, LoraConfig\n",
    "\n",
    "# Set up the LoRA configuration\n",
    "peft_config = LoraConfig(\n",
    "    r=16,\n",
    "    lora_alpha=32,\n",
    "    lora_dropout=0.1,\n",
    "    bias=\"none\",\n",
    "    task_type=\"SEQ_CLS\"\n",
    ")\n",
    "\n",
    "# Create a PEFT model using the configuration\n",
    "peft_model = get_peft_model(model, peft_config)"
   ]
  },
  {
   "cell_type": "code",
   "execution_count": 8,
   "id": "894046c0",
   "metadata": {},
   "outputs": [
    {
     "data": {
      "text/html": [
       "\n",
       "    <div>\n",
       "      \n",
       "      <progress value='1563' max='1563' style='width:300px; height:20px; vertical-align: middle;'></progress>\n",
       "      [1563/1563 06:34, Epoch 1/1]\n",
       "    </div>\n",
       "    <table border=\"1\" class=\"dataframe\">\n",
       "  <thead>\n",
       " <tr style=\"text-align: left;\">\n",
       "      <th>Step</th>\n",
       "      <th>Training Loss</th>\n",
       "    </tr>\n",
       "  </thead>\n",
       "  <tbody>\n",
       "    <tr>\n",
       "      <td>500</td>\n",
       "      <td>0.574100</td>\n",
       "    </tr>\n",
       "    <tr>\n",
       "      <td>1000</td>\n",
       "      <td>0.403200</td>\n",
       "    </tr>\n",
       "    <tr>\n",
       "      <td>1500</td>\n",
       "      <td>0.372000</td>\n",
       "    </tr>\n",
       "  </tbody>\n",
       "</table><p>"
      ],
      "text/plain": [
       "<IPython.core.display.HTML object>"
      ]
     },
     "metadata": {},
     "output_type": "display_data"
    },
    {
     "data": {
      "text/plain": [
       "TrainOutput(global_step=1563, training_loss=0.44614380502731316, metrics={'train_runtime': 394.3912, 'train_samples_per_second': 63.389, 'train_steps_per_second': 3.963, 'total_flos': 1655798246400000.0, 'train_loss': 0.44614380502731316, 'epoch': 1.0})"
      ]
     },
     "execution_count": 8,
     "metadata": {},
     "output_type": "execute_result"
    }
   ],
   "source": [
    "training_args = TrainingArguments(\n",
    "    output_dir=\"./results\",\n",
    "    per_device_train_batch_size=16,\n",
    "    per_device_eval_batch_size=16,\n",
    "    num_train_epochs=1,  \n",
    "    logging_dir=\"./logs\",\n",
    "    logging_steps=500,\n",
    ")\n",
    "\n",
    "trainer = Trainer(\n",
    "    model=peft_model,\n",
    "    args=training_args,\n",
    "    train_dataset=encoded_dataset['train'],\n",
    "    eval_dataset=encoded_dataset['test'],\n",
    "    tokenizer=tokenizer,\n",
    "    compute_metrics=compute_metrics,\n",
    ")\n",
    "\n",
    "# Train the PEFT model\n",
    "trainer.train()\n"
   ]
  },
  {
   "cell_type": "code",
   "execution_count": 9,
   "id": "c4d4c908",
   "metadata": {},
   "outputs": [],
   "source": [
    "peft_model.save_pretrained(\"./fine_tuned_peft_model\")\n"
   ]
  },
  {
   "cell_type": "markdown",
   "id": "615b12c6",
   "metadata": {},
   "source": [
    "## Saving and Loading the Fine-Tuned Model\n",
    "\n",
    "After training, we save the fine-tuned model to a directory to ensure that the new parameters are stored separately. This step allows us to reload the model later for inference or further evaluation.\n",
    "\n",
    "## Post-Fine-Tuning Evaluation\n",
    "\n",
    "We evaluate the fine-tuned model using the same dataset and evaluation metric as before. Comparing these results with the baseline allows us to understand the impact of fine-tuning on model performance.\n"
   ]
  },
  {
   "cell_type": "code",
   "execution_count": 10,
   "id": "863ec66e",
   "metadata": {},
   "outputs": [
    {
     "name": "stderr",
     "output_type": "stream",
     "text": [
      "Some weights of BertForSequenceClassification were not initialized from the model checkpoint at bert-base-uncased and are newly initialized: ['classifier.weight', 'classifier.bias']\n",
      "You should probably TRAIN this model on a down-stream task to be able to use it for predictions and inference.\n"
     ]
    }
   ],
   "source": [
    "# Import the correct class for loading PEFT model\n",
    "from peft import AutoPeftModelForSequenceClassification\n",
    "\n",
    "# Load the previously saved PEFT model\n",
    "peft_model_directory = \"./fine_tuned_peft_model\" \n",
    "peft_model = AutoPeftModelForSequenceClassification.from_pretrained(peft_model_directory)\n"
   ]
  },
  {
   "cell_type": "code",
   "execution_count": 13,
   "id": "bc3a8147",
   "metadata": {},
   "outputs": [
    {
     "data": {
      "text/html": [
       "\n",
       "    <div>\n",
       "      \n",
       "      <progress value='1563' max='1563' style='width:300px; height:20px; vertical-align: middle;'></progress>\n",
       "      [1563/1563 03:07]\n",
       "    </div>\n",
       "    "
      ],
      "text/plain": [
       "<IPython.core.display.HTML object>"
      ]
     },
     "metadata": {},
     "output_type": "display_data"
    },
    {
     "name": "stdout",
     "output_type": "stream",
     "text": [
      "Fine-tuned model accuracy: 0.84568\n"
     ]
    }
   ],
   "source": [
    "trainer = Trainer(\n",
    "    model=peft_model,\n",
    "    args=training_args,\n",
    "    tokenizer=tokenizer,\n",
    "    compute_metrics=compute_metrics,\n",
    ")\n",
    "\n",
    "# Evaluate the fine-tuned model\n",
    "eval_results = trainer.evaluate(encoded_dataset['test'])\n",
    "print(f\"Fine-tuned model accuracy: {eval_results['eval_accuracy']}\")\n"
   ]
  },
  {
   "cell_type": "markdown",
   "id": "9aa4d74c",
   "metadata": {},
   "source": [
    "## Visualization of Results\n",
    "\n",
    "To better understand the impact of fine-tuning, we visualize the model's performance before and after fine-tuning using accuracy scores.\n"
   ]
  },
  {
   "cell_type": "code",
   "execution_count": 14,
   "id": "1f75e918",
   "metadata": {},
   "outputs": [
    {
     "data": {
      "image/png": "[encoded data removed]",
      "text/plain": [
       "<Figure size 640x480 with 1 Axes>"
      ]
     },
     "metadata": {},
     "output_type": "display_data"
    }
   ],
   "source": [
    "import matplotlib.pyplot as plt\n",
    "\n",
    "baseline_accuracy = 0.49  \n",
    "fine_tuned_accuracy = 0.85  \n",
    "\n",
    "plt.bar(['Baseline', 'Fine-Tuned'], [baseline_accuracy, fine_tuned_accuracy])\n",
    "plt.title('Model Performance: Baseline vs. Fine-Tuned')\n",
    "plt.ylabel('Accuracy')\n",
    "plt.show()"
   ]
  },
  {
   "cell_type": "markdown",
   "id": "5c3d6ea3",
   "metadata": {},
   "source": [
    "## Conclusion\n",
    "\n",
    "In this project, we successfully applied lightweight fine-tuning using LoRA to a pretrained BERT model. The fine-tuned model showed a noticeable improvement in accuracy compared to the baseline. This demonstrates the effectiveness of Parameter-Efficient Fine-Tuning techniques in achieving high performance with reduced computational resources. Future work could involve experimenting with different PEFT configurations or applying these techniques to other NLP tasks.\n",
    "\n",
    "## References\n",
    "\n",
    "- Hugging Face Transformers Documentation: [https://huggingface.co/docs/transformers](https://huggingface.co/docs/transformers)\n",
    "- \"LoRA: Low-Rank Adaptation of Large Language Models\" Paper: [https://arxiv.org/abs/2106.09685](https://arxiv.org/abs/2106.09685)\n"
   ]
  }
 ],
 "metadata": {
  "kernelspec": {
   "display_name": "Python 3 (ipykernel)",
   "language": "python",
   "name": "python3"
  },
  "language_info": {
   "codemirror_mode": {
    "name": "ipython",
    "version": 3
   },
   "file_extension": ".py",
   "mimetype": "text/x-python",
   "name": "python",
   "nbconvert_exporter": "python",
   "pygments_lexer": "ipython3",
   "version": "3.10.11"
  }
 },
 "nbformat": 4,
 "nbformat_minor": 5
}
