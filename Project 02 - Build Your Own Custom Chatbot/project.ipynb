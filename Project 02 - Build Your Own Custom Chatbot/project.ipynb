{
 "cells": [
  {
   "cell_type": "markdown",
   "id": "124e5672",
   "metadata": {},
   "source": [
    "# Custom Chatbot Project"
   ]
  },
  {
   "cell_type": "markdown",
   "id": "2a4a94b3",
   "metadata": {},
   "source": [
    "**Dataset Explanation**:\n",
    "\n",
    "The 2023 Fashion Trends dataset is appropriate for customizing a chatbot because it provides specific, up-to-date insights about fashion trends for 2023. This information would not have been available in the original model's training data, ensuring the chatbot delivers new and relevant answers. Additionally, this dataset includes concrete examples of trends, such as popular colors, fabrics, and styles, making it highly relevant to users interested in current fashion.\n",
    "\n",
    "An inappropriate dataset, such as a general fashion history dataset or one without specific examples, would not provide this level of detail. It would fail to enhance the chatbot’s responses, as the model would rely on outdated or irrelevant information. This dataset's focus on current trends ensures that it can answer questions about 2023 fashion more accurately than a generic dataset.\n"
   ]
  },
  {
   "cell_type": "markdown",
   "id": "a63d4c5f",
   "metadata": {},
   "source": [
    "## Data Wrangling\n",
    "\n",
    "TODO: In the cells below, load your chosen dataset into a `pandas` dataframe with a column named `\"text\"`. This column should contain all of your text data, separated into at least 20 rows."
   ]
  },
  {
   "cell_type": "code",
   "execution_count": 1,
   "id": "c83202a0",
   "metadata": {},
   "outputs": [],
   "source": [
    "import openai\n",
    "import pandas as pd"
   ]
  },
  {
   "cell_type": "code",
   "execution_count": 2,
   "id": "9b6058d0",
   "metadata": {},
   "outputs": [],
   "source": [
    "openai.api_base = \"https://openai.vocareum.com/v1\"\n",
    "openai.api_key = \"YOUR API KEY\""
   ]
  },
  {
   "cell_type": "code",
   "execution_count": 8,
   "id": "1081abf3",
   "metadata": {},
   "outputs": [
    {
     "data": {
      "text/html": [
       "<div>\n",
       "<style scoped>\n",
       "    .dataframe tbody tr th:only-of-type {\n",
       "        vertical-align: middle;\n",
       "    }\n",
       "\n",
       "    .dataframe tbody tr th {\n",
       "        vertical-align: top;\n",
       "    }\n",
       "\n",
       "    .dataframe thead th {\n",
       "        text-align: right;\n",
       "    }\n",
       "</style>\n",
       "<table border=\"1\" class=\"dataframe\">\n",
       "  <thead>\n",
       "    <tr style=\"text-align: right;\">\n",
       "      <th></th>\n",
       "      <th>URL</th>\n",
       "      <th>Trends</th>\n",
       "      <th>Source</th>\n",
       "      <th>text</th>\n",
       "    </tr>\n",
       "  </thead>\n",
       "  <tbody>\n",
       "    <tr>\n",
       "      <th>0</th>\n",
       "      <td>https://www.refinery29.com/en-us/fashion-trend...</td>\n",
       "      <td>2023 Fashion Trend: Red. Glossy red hues took ...</td>\n",
       "      <td>7 Fashion Trends That Will Take Over 2023 — Sh...</td>\n",
       "      <td>2023 Fashion Trend: Red. Glossy red hues took ...</td>\n",
       "    </tr>\n",
       "    <tr>\n",
       "      <th>1</th>\n",
       "      <td>https://www.refinery29.com/en-us/fashion-trend...</td>\n",
       "      <td>2023 Fashion Trend: Cargo Pants. Utilitarian w...</td>\n",
       "      <td>7 Fashion Trends That Will Take Over 2023 — Sh...</td>\n",
       "      <td>2023 Fashion Trend: Cargo Pants. Utilitarian w...</td>\n",
       "    </tr>\n",
       "    <tr>\n",
       "      <th>2</th>\n",
       "      <td>https://www.refinery29.com/en-us/fashion-trend...</td>\n",
       "      <td>2023 Fashion Trend: Sheer Clothing. \"Bare it a...</td>\n",
       "      <td>7 Fashion Trends That Will Take Over 2023 — Sh...</td>\n",
       "      <td>2023 Fashion Trend: Sheer Clothing. \"Bare it a...</td>\n",
       "    </tr>\n",
       "    <tr>\n",
       "      <th>3</th>\n",
       "      <td>https://www.refinery29.com/en-us/fashion-trend...</td>\n",
       "      <td>2023 Fashion Trend: Denim Reimagined. From dou...</td>\n",
       "      <td>7 Fashion Trends That Will Take Over 2023 — Sh...</td>\n",
       "      <td>2023 Fashion Trend: Denim Reimagined. From dou...</td>\n",
       "    </tr>\n",
       "    <tr>\n",
       "      <th>4</th>\n",
       "      <td>https://www.refinery29.com/en-us/fashion-trend...</td>\n",
       "      <td>2023 Fashion Trend: Shine For The Daytime. The...</td>\n",
       "      <td>7 Fashion Trends That Will Take Over 2023 — Sh...</td>\n",
       "      <td>2023 Fashion Trend: Shine For The Daytime. The...</td>\n",
       "    </tr>\n",
       "  </tbody>\n",
       "</table>\n",
       "</div>"
      ],
      "text/plain": [
       "                                                 URL  \\\n",
       "0  https://www.refinery29.com/en-us/fashion-trend...   \n",
       "1  https://www.refinery29.com/en-us/fashion-trend...   \n",
       "2  https://www.refinery29.com/en-us/fashion-trend...   \n",
       "3  https://www.refinery29.com/en-us/fashion-trend...   \n",
       "4  https://www.refinery29.com/en-us/fashion-trend...   \n",
       "\n",
       "                                              Trends  \\\n",
       "0  2023 Fashion Trend: Red. Glossy red hues took ...   \n",
       "1  2023 Fashion Trend: Cargo Pants. Utilitarian w...   \n",
       "2  2023 Fashion Trend: Sheer Clothing. \"Bare it a...   \n",
       "3  2023 Fashion Trend: Denim Reimagined. From dou...   \n",
       "4  2023 Fashion Trend: Shine For The Daytime. The...   \n",
       "\n",
       "                                              Source  \\\n",
       "0  7 Fashion Trends That Will Take Over 2023 — Sh...   \n",
       "1  7 Fashion Trends That Will Take Over 2023 — Sh...   \n",
       "2  7 Fashion Trends That Will Take Over 2023 — Sh...   \n",
       "3  7 Fashion Trends That Will Take Over 2023 — Sh...   \n",
       "4  7 Fashion Trends That Will Take Over 2023 — Sh...   \n",
       "\n",
       "                                                text  \n",
       "0  2023 Fashion Trend: Red. Glossy red hues took ...  \n",
       "1  2023 Fashion Trend: Cargo Pants. Utilitarian w...  \n",
       "2  2023 Fashion Trend: Sheer Clothing. \"Bare it a...  \n",
       "3  2023 Fashion Trend: Denim Reimagined. From dou...  \n",
       "4  2023 Fashion Trend: Shine For The Daytime. The...  "
      ]
     },
     "execution_count": 8,
     "metadata": {},
     "output_type": "execute_result"
    }
   ],
   "source": [
    "df = pd.read_csv(\"2023_fashion_trends.csv\")\n",
    "\n",
    "df['text'] = df['Trends'] + df['Source']\n",
    "\n",
    "df.head()"
   ]
  },
  {
   "cell_type": "markdown",
   "id": "ae769871",
   "metadata": {},
   "source": [
    "## Custom Query Completion\n",
    "\n",
    "TODO: In the cells below, compose a custom query using your chosen dataset and retrieve results from an OpenAI `Completion` model. You may copy and paste any useful code from the course materials."
   ]
  },
  {
   "cell_type": "code",
   "execution_count": 9,
   "id": "4b4a33f4",
   "metadata": {},
   "outputs": [
    {
     "name": "stdout",
     "output_type": "stream",
     "text": [
      "\n",
      "Answer without custom dataset:\n",
      "As a language model AI, I don't have access to future information. I can provide you some predictions based on current fashion trends, but please keep in mind that fashion is constantly evolving and it's impossible to accurately predict what will be popular in 2023.\n",
      "\n",
      "1. Sustainable and ethical fashion: With increasing awareness about environmental and social issues, there is a growing demand for sustainable and ethical fashion. In 2023, we can expect to see more brands using sustainable materials and production methods, and promoting transparency in their supply chain.\n",
      "\n",
      "2. Bold and vibrant colors: In recent years, fashion has moved away from neutral and muted tones towards bold and vibrant colors. This trend is likely to continue in 2023, with bright hues like neon green\n"
     ]
    }
   ],
   "source": [
    "# Define a fashion-related question\n",
    "fashion_prompt = \"\"\"\n",
    "Question: \"What are the top fashion trends for 2023?\"\n",
    "Answer:\n",
    "\"\"\"\n",
    "\n",
    "# Query OpenAI without the custom dataset\n",
    "initial_fashion_answer = openai.Completion.create(\n",
    "    model=\"gpt-3.5-turbo-instruct\",\n",
    "    prompt=fashion_prompt,\n",
    "    max_tokens=150\n",
    ")[\"choices\"][0][\"text\"].strip()\n",
    "\n",
    "print(\"\\nAnswer without custom dataset:\")\n",
    "print(initial_fashion_answer)\n"
   ]
  },
  {
   "cell_type": "markdown",
   "id": "1783f146",
   "metadata": {},
   "source": [
    "## Custom Performance Demonstration\n",
    "\n",
    "TODO: In the cells below, demonstrate the performance of your custom query using at least 2 questions. For each question, show the answer from a basic `Completion` model query as well as the answer from your custom query."
   ]
  },
  {
   "cell_type": "markdown",
   "id": "4f11fdc0",
   "metadata": {},
   "source": [
    "### Question 1"
   ]
  },
  {
   "cell_type": "code",
   "execution_count": 10,
   "id": "4901c850",
   "metadata": {},
   "outputs": [
    {
     "name": "stdout",
     "output_type": "stream",
     "text": [
      "\n",
      "Question 1 - Without custom dataset:\n",
      "It is impossible to accurately predict fashion trends for a specific year, as trends constantly change and evolve. However, according to current fashion forecasts, some colors that may be popular in 2023 could include bright, bold hues such as electric blue, neon green, and vibrant purple, as well as warm, earthy tones like rusty orange and mustard yellow. Pastel shades and muted tones are also expected to remain popular. Ultimately, fashion trends are subjective and can vary greatly depending on personal preference and the collections presented by designers.\n",
      "\n",
      "Question 1 - With custom dataset:\n",
      "Based on current fashion forecasts, the following colors are predicted to trend in 2023:\n",
      "\n",
      "1. Red - bold, glossy shades of red are expected to dominate 2023 fashion, adding a touch of vibrancy and energy to outfits.\n",
      "\n",
      "2. Neutral tones - beige, camel, and other earthy hues are expected to make a comeback in 2023, providing a softer, more natural look.\n",
      "\n",
      "3. Pastel colors - light shades such as lavender, mint green, and baby blue are predicted to be popular in 2023, adding a delicate and feminine touch to outfits.\n",
      "\n",
      "4. Metallics - shiny, metallic colors like silver, gold, and copper are expected to be a big trend in 2023, adding a touch\n"
     ]
    }
   ],
   "source": [
    "# Question 1\n",
    "fashion_prompt_q1 = \"\"\"\n",
    "Question: \"What colors are trending in 2023 fashion?\"\n",
    "Answer:\n",
    "\"\"\"\n",
    "\n",
    "custom_fashion_prompt_q1 = f\"\"\"\n",
    "Question: \"What colors are trending in 2023 fashion?\"\n",
    "Here are some trends:\n",
    "{df['text'].iloc[0:5].to_string(index=False)}\n",
    "Answer:\n",
    "\"\"\"\n",
    "\n",
    "# Query for Question 1 without custom dataset\n",
    "initial_fashion_answer_q1 = openai.Completion.create(\n",
    "    model=\"gpt-3.5-turbo-instruct\",\n",
    "    prompt=fashion_prompt_q1,\n",
    "    max_tokens=150\n",
    ")[\"choices\"][0][\"text\"].strip()\n",
    "\n",
    "# Query for Question 1 with custom dataset\n",
    "custom_fashion_answer_q1 = openai.Completion.create(\n",
    "    model=\"gpt-3.5-turbo-instruct\",\n",
    "    prompt=custom_fashion_prompt_q1,\n",
    "    max_tokens=150\n",
    ")[\"choices\"][0][\"text\"].strip()\n",
    "\n",
    "print(\"\\nQuestion 1 - Without custom dataset:\")\n",
    "print(initial_fashion_answer_q1)\n",
    "\n",
    "print(\"\\nQuestion 1 - With custom dataset:\")\n",
    "print(custom_fashion_answer_q1)"
   ]
  },
  {
   "cell_type": "markdown",
   "id": "85c437b5",
   "metadata": {},
   "source": [
    "### Summary of Differences Between the Two Answers for Question 1:\n",
    "\n",
    "#### Question 1 - Without Custom Dataset:\n",
    "- **Answer**: The model provides a general response predicting that bold and bright hues like electric blue, neon green, and vibrant purple may be popular in 2023. It also mentions warm tones such as rusty orange and mustard yellow, along with pastel and muted shades. However, this answer lacks specificity and is more of a broad fashion forecast.\n",
    "\n",
    "#### Question 1 - With Custom Dataset:\n",
    "- **Answer**: The model delivers a more detailed and specific answer, referencing actual colors from the custom dataset. It mentions:\n",
    "  1. **Red**: Glossy, bold shades of red are predicted to dominate in 2023.\n",
    "  2. **Neutral Tones**: Beige, camel, and earthy hues are expected to trend.\n",
    "  3. **Pastels**: Soft colors like lavender, mint green, and baby blue are likely to be popular.\n",
    "  4. **Metallics**: Shiny, metallic shades like silver, gold, and copper are expected to be significant in 2023 fashion.\n",
    "  \n",
    "  This response is more accurate and concrete, thanks to the dataset's influence."
   ]
  },
  {
   "cell_type": "markdown",
   "id": "6e86e37c",
   "metadata": {},
   "source": [
    "### Question 2"
   ]
  },
  {
   "cell_type": "code",
   "execution_count": 11,
   "id": "6f646989",
   "metadata": {},
   "outputs": [
    {
     "name": "stdout",
     "output_type": "stream",
     "text": [
      "\n",
      "Question 2 - Without custom dataset:\n",
      "Predicting fashion trends is not an exact science and can be influenced by a variety of factors such as cultural shifts, technology advancements, and designer influence. However, based on current fashion trends and shifts in the industry, here are some potential types of clothing that may be popular in 2023:\n",
      "\n",
      "1. Sustainable and ethical fashion: With an increased focus on sustainability and ethical production in the fashion industry, it is likely that in 2023, we will see a rise in popularity of clothing made from sustainable materials such as organic cotton, recycled fabrics, and plant-based alternatives to leather. Brands that prioritize fair labor practices and environmentally-friendly production methods may also gain popularity.\n",
      "\n",
      "2. Athleisure wear: The trend of wearing athletic-inspired clothing for everyday activities\n",
      "\n",
      "Question 2 - With custom dataset:\n",
      "1. Red color palette: In 2023, bold and glossy red hues will be a popular trend, making a statement in clothing. These vibrant shades will be seen in everything from dresses to accessories.\n",
      "\n",
      "2. Utilitarian wear: Utilitarian clothing has been gaining popularity in recent years, and this trend will continue in 2023. Cargo pants, with their multiple pockets and functional design, will be a staple in many wardrobes.\n",
      "\n",
      "3. Sheer clothing: With a focus on embracing body positivity and celebrating the beauty of individuality, sheer clothing will take center stage in 2023. Mesh, tulle, and lace fabrics will be used to create garments that allow for a playful yet sophisticated look.\n",
      "\n",
      "4. Reimagined\n"
     ]
    }
   ],
   "source": [
    "# Question 2\n",
    "fashion_prompt_q2 = \"\"\"\n",
    "Question: \"What types of clothing will be popular in 2023?\"\n",
    "Answer:\n",
    "\"\"\"\n",
    "\n",
    "custom_fashion_prompt_q2 = f\"\"\"\n",
    "Question: \"What types of clothing will be popular in 2023?\"\n",
    "Here are some trends:\n",
    "{df['text'].iloc[0:5].to_string(index=False)}\n",
    "Answer:\n",
    "\"\"\"\n",
    "\n",
    "# Query for Question 2 without custom dataset\n",
    "initial_fashion_answer_q2 = openai.Completion.create(\n",
    "    model=\"gpt-3.5-turbo-instruct\",\n",
    "    prompt=fashion_prompt_q2,\n",
    "    max_tokens=150\n",
    ")[\"choices\"][0][\"text\"].strip()\n",
    "\n",
    "# Query for Question 2 with custom dataset\n",
    "custom_fashion_answer_q2 = openai.Completion.create(\n",
    "    model=\"gpt-3.5-turbo-instruct\",\n",
    "    prompt=custom_fashion_prompt_q2,\n",
    "    max_tokens=150\n",
    ")[\"choices\"][0][\"text\"].strip()\n",
    "\n",
    "print(\"\\nQuestion 2 - Without custom dataset:\")\n",
    "print(initial_fashion_answer_q2)\n",
    "\n",
    "print(\"\\nQuestion 2 - With custom dataset:\")\n",
    "print(custom_fashion_answer_q2)\n"
   ]
  },
  {
   "cell_type": "markdown",
   "id": "53a3fb85",
   "metadata": {},
   "source": [
    "### Summary of Differences Between the Two Answers for Question 2:\n",
    "\n",
    "#### Question 2 - Without Custom Dataset:\n",
    "- **Answer**: The model provides a general prediction based on broader fashion industry trends. It highlights sustainable and ethical fashion, forecasting the rise of clothing made from organic and recycled materials. It also predicts the continued popularity of athleisure wear, focusing on the trend of using athletic-inspired clothing for everyday wear. This response is broad and lacks specific examples of particular styles or garments.\n",
    "\n",
    "#### Question 2 - With Custom Dataset:\n",
    "- **Answer**: The model gives a much more detailed and specific answer by referencing trends from the custom dataset. It highlights:\n",
    "  1. **Red Color Palette**: Bold, glossy red hues will dominate in 2023, featured in various clothing items and accessories.\n",
    "  2. **Utilitarian Wear**: Cargo pants and functional, utilitarian designs will be popular, continuing the trend of practical fashion.\n",
    "  3. **Sheer Clothing**: Mesh, tulle, and lace fabrics will be central in 2023 fashion, embracing body positivity and individuality.\n",
    "  \n",
    "  This answer, informed by the custom dataset, provides more specific examples and directly references particular trends expected for 2023.\n",
    "\n"
   ]
  },
  {
   "cell_type": "code",
   "execution_count": null,
   "id": "512eaf9a",
   "metadata": {},
   "outputs": [],
   "source": []
  }
 ],
 "metadata": {
  "kernelspec": {
   "display_name": "Python 3 (ipykernel)",
   "language": "python",
   "name": "python3"
  },
  "language_info": {
   "codemirror_mode": {
    "name": "ipython",
    "version": 3
   },
   "file_extension": ".py",
   "mimetype": "text/x-python",
   "name": "python",
   "nbconvert_exporter": "python",
   "pygments_lexer": "ipython3",
   "version": "3.9.18"
  }
 },
 "nbformat": 4,
 "nbformat_minor": 5
}
